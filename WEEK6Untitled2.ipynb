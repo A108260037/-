{
  "nbformat": 4,
  "nbformat_minor": 0,
  "metadata": {
    "colab": {
      "name": "WEEK6Untitled2.ipynb",
      "provenance": [],
      "include_colab_link": true
    },
    "kernelspec": {
      "name": "python3",
      "display_name": "Python 3"
    }
  },
  "cells": [
    {
      "cell_type": "markdown",
      "metadata": {
        "id": "view-in-github",
        "colab_type": "text"
      },
      "source": [
        "<a href=\"https://colab.research.google.com/github/A108260037/-/blob/master/WEEK6Untitled2.ipynb\" target=\"_parent\"><img src=\"https://colab.research.google.com/assets/colab-badge.svg\" alt=\"Open In Colab\"/></a>"
      ]
    },
    {
      "cell_type": "markdown",
      "metadata": {
        "id": "8fS8qZdRQWO0",
        "colab_type": "text"
      },
      "source": [
        ""
      ]
    },
    {
      "cell_type": "code",
      "metadata": {
        "id": "2WR5ZodNLmvH",
        "colab_type": "code",
        "colab": {
          "base_uri": "https://localhost:8080/",
          "height": 102
        },
        "outputId": "4e732032-76ae-46cf-d71f-c175352d0187"
      },
      "source": [
        "第一次期中考成績=int(input('請輸入第一次期中考成績?'))\n",
        "第二次期中考成績=int(input('請輸入第二次期中考成績?'))\n",
        "期末考=int(input('請輸入期末考成績?'))\n",
        "\n",
        "sum=第一次期中考成績+第二次期中考成績+期末考\n",
        "print('總分為',sum)\n",
        "\n",
        "\n",
        "average=sum/3\n",
        "print('平均為',average)\n",
        "              "
      ],
      "execution_count": 1,
      "outputs": [
        {
          "output_type": "stream",
          "text": [
            "請輸入第一次期中考成績?70\n",
            "請輸入第二次期中考成績?60\n",
            "請輸入期末考成績?65\n",
            "總分為 195\n",
            "平均為 65.0\n"
          ],
          "name": "stdout"
        }
      ]
    },
    {
      "cell_type": "code",
      "metadata": {
        "id": "pZ_86jnuO-Ba",
        "colab_type": "code",
        "colab": {
          "base_uri": "https://localhost:8080/",
          "height": 68
        },
        "outputId": "81e10dde-0d1c-4aec-c0fb-770ddbf9a5e3"
      },
      "source": [
        "c=float(input(\"請輸入幾尺?\"))\n",
        "d=float(input(\"請輸入幾吋?\"))\n",
        "y=(c*12+d)*2.54\n",
        "print('轉換為', y)      \n",
        "        \n"
      ],
      "execution_count": 3,
      "outputs": [
        {
          "output_type": "stream",
          "text": [
            "請輸入幾尺?5\n",
            "請輸入幾吋?3\n",
            "轉換為 160.02\n"
          ],
          "name": "stdout"
        }
      ]
    },
    {
      "cell_type": "code",
      "metadata": {
        "id": "jDsoPvNKPZ5U",
        "colab_type": "code",
        "colab": {}
      },
      "source": [
        ""
      ],
      "execution_count": 0,
      "outputs": []
    }
  ]
}