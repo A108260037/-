{
  "nbformat": 4,
  "nbformat_minor": 0,
  "metadata": {
    "colab": {
      "name": "Week8 A108260037蔡嘉祐ipynb",
      "provenance": [],
      "include_colab_link": true
    },
    "kernelspec": {
      "name": "python3",
      "display_name": "Python 3"
    }
  },
  "cells": [
    {
      "cell_type": "markdown",
      "metadata": {
        "id": "view-in-github",
        "colab_type": "text"
      },
      "source": [
        "<a href=\"https://colab.research.google.com/github/A108260037/-/blob/master/Week8_A108260037%E8%94%A1%E5%98%89%E7%A5%90ipynb.ipynb\" target=\"_parent\"><img src=\"https://colab.research.google.com/assets/colab-badge.svg\" alt=\"Open In Colab\"/></a>"
      ]
    },
    {
      "cell_type": "code",
      "metadata": {
        "id": "2LT06EPgSysS",
        "colab_type": "code",
        "colab": {
          "base_uri": "https://localhost:8080/",
          "height": 51
        },
        "outputId": "b514c797-1292-4267-9099-5a88c5b2cd32"
      },
      "source": [
        "score=int(input())\n",
        "if score >=60:\n",
        "  print(\"Good\")"
      ],
      "execution_count": 7,
      "outputs": [
        {
          "output_type": "stream",
          "text": [
            "80\n",
            "Good\n"
          ],
          "name": "stdout"
        }
      ]
    },
    {
      "cell_type": "code",
      "metadata": {
        "id": "JhC6mC1xeKSl",
        "colab_type": "code",
        "colab": {
          "base_uri": "https://localhost:8080/",
          "height": 34
        },
        "outputId": "5ea6fae3-cdb3-4e3a-8ac5-6b522c6ad66a"
      },
      "source": [
        "score=88\n",
        "if score >=60:\n",
        "  print(\"Pass\")\n",
        "else:\n",
        "  print(\"Fail\")\n"
      ],
      "execution_count": 2,
      "outputs": [
        {
          "output_type": "stream",
          "text": [
            "Pass\n"
          ],
          "name": "stdout"
        }
      ]
    },
    {
      "cell_type": "code",
      "metadata": {
        "id": "-1HPweglfDRy",
        "colab_type": "code",
        "colab": {
          "base_uri": "https://localhost:8080/",
          "height": 34
        },
        "outputId": "51ac4c84-2a5a-4dcc-db50-93419d930bbd"
      },
      "source": [
        "score=66\n",
        "if score>=80:\n",
        "     print(\"Well Done\")\n",
        "elif score >=60:\n",
        "    print(\"OK\")\n",
        "else:\n",
        "     print(\"Fail\")    \n"
      ],
      "execution_count": 11,
      "outputs": [
        {
          "output_type": "stream",
          "text": [
            "OK\n"
          ],
          "name": "stdout"
        }
      ]
    },
    {
      "cell_type": "code",
      "metadata": {
        "id": "-X6gSXbahrRl",
        "colab_type": "code",
        "colab": {
          "base_uri": "https://localhost:8080/",
          "height": 51
        },
        "outputId": "77a90988-9ec4-45fc-95ac-4688bbbc5456"
      },
      "source": [
        "x=5\n",
        "y=1\n",
        "if x >0:\n",
        "    print(\"I+IV\")\n",
        "    if y >0:\n",
        "        print(\"I\")\n",
        "    else:\n",
        "        print(\"IV\")\n",
        "\n",
        "else:\n",
        "    print(\"II+III\")\n",
        "    if Y >0:\n",
        "        print(\"II\")\n",
        "    else:\n",
        "        print(\"III\")\n"
      ],
      "execution_count": 19,
      "outputs": [
        {
          "output_type": "stream",
          "text": [
            "I+IV\n",
            "I\n"
          ],
          "name": "stdout"
        }
      ]
    }
  ]
}