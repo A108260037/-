{
  "nbformat": 4,
  "nbformat_minor": 0,
  "metadata": {
    "colab": {
      "name": "while loop.ipynb",
      "provenance": [],
      "include_colab_link": true
    },
    "kernelspec": {
      "name": "python3",
      "display_name": "Python 3"
    }
  },
  "cells": [
    {
      "cell_type": "markdown",
      "metadata": {
        "id": "view-in-github",
        "colab_type": "text"
      },
      "source": [
        "<a href=\"https://colab.research.google.com/github/A108260037/-/blob/master/while_loop.ipynb\" target=\"_parent\"><img src=\"https://colab.research.google.com/assets/colab-badge.svg\" alt=\"Open In Colab\"/></a>"
      ]
    },
    {
      "cell_type": "code",
      "metadata": {
        "id": "VRs0lhlFqWvg",
        "colab_type": "code",
        "colab": {
          "base_uri": "https://localhost:8080/",
          "height": 105
        },
        "outputId": "13283971-83bb-464f-e912-086aaa396f98"
      },
      "source": [
        "n = 1\n",
        "while n < 5:\n",
        "   print(\"變數n是\", n)\n",
        "   n = n + 1\n",
        "\n",
        "print(\"Finished\")"
      ],
      "execution_count": 1,
      "outputs": [
        {
          "output_type": "stream",
          "text": [
            "變數n是 1\n",
            "變數n是 2\n",
            "變數n是 3\n",
            "變數n是 4\n",
            "Finished\n"
          ],
          "name": "stdout"
        }
      ]
    },
    {
      "cell_type": "code",
      "metadata": {
        "id": "4UZ6s5cMtEhP",
        "colab_type": "code",
        "colab": {
          "base_uri": "https://localhost:8080/",
          "height": 192
        },
        "outputId": "89ee4dc1-7bde-48f3-e4e1-bb45595d84a1"
      },
      "source": [
        "x = 0\n",
        "while x < 10:\n",
        "    print(\"hello\")\n",
        "    x = x + 1"
      ],
      "execution_count": 3,
      "outputs": [
        {
          "output_type": "stream",
          "text": [
            "hello\n",
            "hello\n",
            "hello\n",
            "hello\n",
            "hello\n",
            "hello\n",
            "hello\n",
            "hello\n",
            "hello\n",
            "hello\n"
          ],
          "name": "stdout"
        }
      ]
    },
    {
      "cell_type": "code",
      "metadata": {
        "id": "54f68_IoulXk",
        "colab_type": "code",
        "colab": {
          "base_uri": "https://localhost:8080/",
          "height": 192
        },
        "outputId": "775f432a-3036-4b37-b8b7-ac16a0e6c363"
      },
      "source": [
        "times = 0\n",
        "while times < 10:\n",
        "    times = times + 1\n",
        "    print(\"這是第\", times, \"次的hello\")"
      ],
      "execution_count": 8,
      "outputs": [
        {
          "output_type": "stream",
          "text": [
            "這是第 1 次的hello\n",
            "這是第 2 次的hello\n",
            "這是第 3 次的hello\n",
            "這是第 4 次的hello\n",
            "這是第 5 次的hello\n",
            "這是第 6 次的hello\n",
            "這是第 7 次的hello\n",
            "這是第 8 次的hello\n",
            "這是第 9 次的hello\n",
            "這是第 10 次的hello\n"
          ],
          "name": "stdout"
        }
      ]
    },
    {
      "cell_type": "code",
      "metadata": {
        "id": "793mlAEpvucu",
        "colab_type": "code",
        "colab": {
          "base_uri": "https://localhost:8080/",
          "height": 35
        },
        "outputId": "d212e04a-383f-44c1-e850-99cd0b72cf7d"
      },
      "source": [
        "x = 0\n",
        "result = 0\n",
        "\n",
        "while x < 10:\n",
        "    x = x + 1\n",
        "    result = result + x\n",
        "print(\"Answer is\", result)"
      ],
      "execution_count": 9,
      "outputs": [
        {
          "output_type": "stream",
          "text": [
            "Answer is 55\n"
          ],
          "name": "stdout"
        }
      ]
    },
    {
      "cell_type": "code",
      "metadata": {
        "id": "DRfqP53Ux70p",
        "colab_type": "code",
        "colab": {
          "base_uri": "https://localhost:8080/",
          "height": 35
        },
        "outputId": "671ac908-b73d-4c4c-f8e8-f3ba23199a12"
      },
      "source": [
        "x = 0\n",
        "result = 0\n",
        "\n",
        "while result <= 50:\n",
        "    x = x + 1\n",
        "    result = result + x\n",
        "print(\"最後加的x是\" , x)"
      ],
      "execution_count": 11,
      "outputs": [
        {
          "output_type": "stream",
          "text": [
            "最後加的x是 10\n"
          ],
          "name": "stdout"
        }
      ]
    },
    {
      "cell_type": "code",
      "metadata": {
        "id": "oVMakFFQzL4C",
        "colab_type": "code",
        "colab": {
          "base_uri": "https://localhost:8080/",
          "height": 35
        },
        "outputId": "14a2a7fc-441e-420b-a1cb-3c123845978b"
      },
      "source": [
        "X = 1\n",
        "result = 0\n",
        "while X < 10:\n",
        "    result = result + X\n",
        "    X = X + 2\n",
        "print(\"一到九的基數和是\" , result)    "
      ],
      "execution_count": 14,
      "outputs": [
        {
          "output_type": "stream",
          "text": [
            "一到九的基數和是 25\n"
          ],
          "name": "stdout"
        }
      ]
    },
    {
      "cell_type": "code",
      "metadata": {
        "id": "Ieu1Peve0a2F",
        "colab_type": "code",
        "colab": {
          "base_uri": "https://localhost:8080/",
          "height": 35
        },
        "outputId": "27619d7e-f35a-40e2-89ad-0b0f966e6898"
      },
      "source": [
        "sum = 0\n",
        "i = 0\n",
        "while sum <= 1000:\n",
        " i += 1\n",
        " sum += i*i\n",
        "print('最小的n值為', i)"
      ],
      "execution_count": 17,
      "outputs": [
        {
          "output_type": "stream",
          "text": [
            "最小的n值為 14\n"
          ],
          "name": "stdout"
        }
      ]
    }
  ]
}